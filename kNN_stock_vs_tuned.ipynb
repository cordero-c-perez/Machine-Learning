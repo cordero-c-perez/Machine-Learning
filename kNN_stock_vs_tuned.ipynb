{
 "cells": [
  {
   "cell_type": "markdown",
   "metadata": {},
   "source": [
    "**Goal:** Compare the base model's performance for the KNeighborsClassifier (kNN) to the tuned model's performance using a cleaned UCI-ML Repo dataset (Speech Recognition)."
   ]
  },
  {
   "cell_type": "code",
   "execution_count": 15,
   "metadata": {},
   "outputs": [],
   "source": [
    "# necessary imports for EDA\n",
    "import pandas as pd\n",
    "import numpy as np\n",
    "import matplotlib.pyplot as plt\n",
    "import seaborn as sns\n",
    "%matplotlib inline\n",
    "\n",
    "# sklearn imports\n",
    "from sklearn.neighbors import KNeighborsClassifier\n",
    "from sklearn.model_selection import cross_val_score, train_test_split, GridSearchCV\n",
    "from sklearn.pipeline import Pipeline\n",
    "from sklearn.metrics import classification_report, confusion_matrix, plot_confusion_matrix"
   ]
  },
  {
   "cell_type": "code",
   "execution_count": 16,
   "metadata": {},
   "outputs": [
    {
     "name": "stdout",
     "output_type": "stream",
     "text": [
      "\n",
      "The dataset is quite small. There are  329  rows and  13 columns.\n",
      "\n"
     ]
    },
    {
     "data": {
      "text/html": [
       "<div>\n",
       "<style scoped>\n",
       "    .dataframe tbody tr th:only-of-type {\n",
       "        vertical-align: middle;\n",
       "    }\n",
       "\n",
       "    .dataframe tbody tr th {\n",
       "        vertical-align: top;\n",
       "    }\n",
       "\n",
       "    .dataframe thead th {\n",
       "        text-align: right;\n",
       "    }\n",
       "</style>\n",
       "<table border=\"1\" class=\"dataframe\">\n",
       "  <thead>\n",
       "    <tr style=\"text-align: right;\">\n",
       "      <th></th>\n",
       "      <th>language</th>\n",
       "      <th>X1</th>\n",
       "      <th>X2</th>\n",
       "      <th>X3</th>\n",
       "      <th>X4</th>\n",
       "      <th>X5</th>\n",
       "      <th>X6</th>\n",
       "      <th>X7</th>\n",
       "      <th>X8</th>\n",
       "      <th>X9</th>\n",
       "      <th>X10</th>\n",
       "      <th>X11</th>\n",
       "      <th>X12</th>\n",
       "    </tr>\n",
       "  </thead>\n",
       "  <tbody>\n",
       "    <tr>\n",
       "      <th>0</th>\n",
       "      <td>ES</td>\n",
       "      <td>7.071476</td>\n",
       "      <td>-6.512900</td>\n",
       "      <td>7.650800</td>\n",
       "      <td>11.150783</td>\n",
       "      <td>-7.657312</td>\n",
       "      <td>12.484021</td>\n",
       "      <td>-11.709772</td>\n",
       "      <td>3.426596</td>\n",
       "      <td>1.462715</td>\n",
       "      <td>-2.812753</td>\n",
       "      <td>0.866538</td>\n",
       "      <td>-5.244274</td>\n",
       "    </tr>\n",
       "    <tr>\n",
       "      <th>1</th>\n",
       "      <td>ES</td>\n",
       "      <td>10.982967</td>\n",
       "      <td>-5.157445</td>\n",
       "      <td>3.952060</td>\n",
       "      <td>11.529381</td>\n",
       "      <td>-7.638047</td>\n",
       "      <td>12.136098</td>\n",
       "      <td>-12.036247</td>\n",
       "      <td>3.491943</td>\n",
       "      <td>0.595441</td>\n",
       "      <td>-4.508811</td>\n",
       "      <td>2.332147</td>\n",
       "      <td>-6.221857</td>\n",
       "    </tr>\n",
       "    <tr>\n",
       "      <th>2</th>\n",
       "      <td>ES</td>\n",
       "      <td>7.827108</td>\n",
       "      <td>-5.477472</td>\n",
       "      <td>7.816257</td>\n",
       "      <td>9.187592</td>\n",
       "      <td>-7.172511</td>\n",
       "      <td>11.715299</td>\n",
       "      <td>-13.847214</td>\n",
       "      <td>4.574075</td>\n",
       "      <td>-1.687559</td>\n",
       "      <td>-7.204041</td>\n",
       "      <td>-0.011847</td>\n",
       "      <td>-6.463144</td>\n",
       "    </tr>\n",
       "    <tr>\n",
       "      <th>3</th>\n",
       "      <td>ES</td>\n",
       "      <td>6.744083</td>\n",
       "      <td>-5.688920</td>\n",
       "      <td>6.546789</td>\n",
       "      <td>9.000183</td>\n",
       "      <td>-6.924963</td>\n",
       "      <td>11.710766</td>\n",
       "      <td>-12.374388</td>\n",
       "      <td>6.169879</td>\n",
       "      <td>-0.544747</td>\n",
       "      <td>-6.019237</td>\n",
       "      <td>1.358559</td>\n",
       "      <td>-6.356441</td>\n",
       "    </tr>\n",
       "    <tr>\n",
       "      <th>4</th>\n",
       "      <td>ES</td>\n",
       "      <td>5.836843</td>\n",
       "      <td>-5.326557</td>\n",
       "      <td>7.472265</td>\n",
       "      <td>8.847440</td>\n",
       "      <td>-6.773244</td>\n",
       "      <td>12.677218</td>\n",
       "      <td>-12.315061</td>\n",
       "      <td>4.416344</td>\n",
       "      <td>0.193500</td>\n",
       "      <td>-3.644812</td>\n",
       "      <td>2.151239</td>\n",
       "      <td>-6.816310</td>\n",
       "    </tr>\n",
       "  </tbody>\n",
       "</table>\n",
       "</div>"
      ],
      "text/plain": [
       "  language         X1        X2        X3         X4        X5         X6  \\\n",
       "0       ES   7.071476 -6.512900  7.650800  11.150783 -7.657312  12.484021   \n",
       "1       ES  10.982967 -5.157445  3.952060  11.529381 -7.638047  12.136098   \n",
       "2       ES   7.827108 -5.477472  7.816257   9.187592 -7.172511  11.715299   \n",
       "3       ES   6.744083 -5.688920  6.546789   9.000183 -6.924963  11.710766   \n",
       "4       ES   5.836843 -5.326557  7.472265   8.847440 -6.773244  12.677218   \n",
       "\n",
       "          X7        X8        X9       X10       X11       X12  \n",
       "0 -11.709772  3.426596  1.462715 -2.812753  0.866538 -5.244274  \n",
       "1 -12.036247  3.491943  0.595441 -4.508811  2.332147 -6.221857  \n",
       "2 -13.847214  4.574075 -1.687559 -7.204041 -0.011847 -6.463144  \n",
       "3 -12.374388  6.169879 -0.544747 -6.019237  1.358559 -6.356441  \n",
       "4 -12.315061  4.416344  0.193500 -3.644812  2.151239 -6.816310  "
      ]
     },
     "metadata": {},
     "output_type": "display_data"
    },
    {
     "name": "stdout",
     "output_type": "stream",
     "text": [
      "<class 'pandas.core.frame.DataFrame'>\n",
      "RangeIndex: 329 entries, 0 to 328\n",
      "Data columns (total 13 columns):\n",
      " #   Column    Non-Null Count  Dtype  \n",
      "---  ------    --------------  -----  \n",
      " 0   language  329 non-null    object \n",
      " 1   X1        329 non-null    float64\n",
      " 2   X2        329 non-null    float64\n",
      " 3   X3        329 non-null    float64\n",
      " 4   X4        329 non-null    float64\n",
      " 5   X5        329 non-null    float64\n",
      " 6   X6        329 non-null    float64\n",
      " 7   X7        329 non-null    float64\n",
      " 8   X8        329 non-null    float64\n",
      " 9   X9        329 non-null    float64\n",
      " 10  X10       329 non-null    float64\n",
      " 11  X11       329 non-null    float64\n",
      " 12  X12       329 non-null    float64\n",
      "dtypes: float64(12), object(1)\n",
      "memory usage: 33.5+ KB\n"
     ]
    }
   ],
   "source": [
    "# load data\n",
    "srd = pd.read_csv('../Machine-Learning-Data/accent-mfcc-data-1.csv')\n"
   ]
  },
  {
   "cell_type": "code",
   "execution_count": null,
   "metadata": {},
   "outputs": [],
   "source": []
  },
  {
   "cell_type": "raw",
   "metadata": {},
   "source": [
    "srd.info()"
   ]
  },
  {
   "cell_type": "markdown",
   "metadata": {},
   "source": [
    "**Cleaning**"
   ]
  },
  {
   "cell_type": "code",
   "execution_count": 17,
   "metadata": {},
   "outputs": [],
   "source": [
    "# convert the target variable to categorical\n",
    "srd['language'] = srd['language'].astype('category')"
   ]
  },
  {
   "cell_type": "markdown",
   "metadata": {},
   "source": [
    "**EDA**"
   ]
  },
  {
   "cell_type": "code",
   "execution_count": 18,
   "metadata": {},
   "outputs": [],
   "source": [
    "#sns.pairplot(srd, hue = 'language')\n",
    "#plt.show()"
   ]
  },
  {
   "cell_type": "markdown",
   "metadata": {},
   "source": [
    "**Model Set-up**"
   ]
  },
  {
   "cell_type": "code",
   "execution_count": 19,
   "metadata": {},
   "outputs": [],
   "source": [
    "# create train and test sets\n",
    "X = srd.drop(['language'], axis = 'columns')\n",
    "y = srd['language']\n",
    "\n",
    "# random sampling\n",
    "X_train, X_test, y_train, y_test = train_test_split(X, y, test_size = .25, random_state = 28)\n",
    "\n",
    "# stratified sampling\n",
    "X_train_s, X_test_s, y_train_s, y_test_s = train_test_split(X, y, test_size = .25, random_state = 28, stratify = y)\n"
   ]
  },
  {
   "cell_type": "code",
   "execution_count": 20,
   "metadata": {},
   "outputs": [
    {
     "data": {
      "text/html": [
       "<div>\n",
       "<style scoped>\n",
       "    .dataframe tbody tr th:only-of-type {\n",
       "        vertical-align: middle;\n",
       "    }\n",
       "\n",
       "    .dataframe tbody tr th {\n",
       "        vertical-align: top;\n",
       "    }\n",
       "\n",
       "    .dataframe thead th {\n",
       "        text-align: right;\n",
       "    }\n",
       "</style>\n",
       "<table border=\"1\" class=\"dataframe\">\n",
       "  <thead>\n",
       "    <tr style=\"text-align: right;\">\n",
       "      <th></th>\n",
       "      <th>y_train</th>\n",
       "      <th>y_test</th>\n",
       "      <th>y_train_s</th>\n",
       "      <th>y_test_s</th>\n",
       "    </tr>\n",
       "  </thead>\n",
       "  <tbody>\n",
       "    <tr>\n",
       "      <th>US</th>\n",
       "      <td>0.487805</td>\n",
       "      <td>0.542169</td>\n",
       "      <td>0.500000</td>\n",
       "      <td>0.506024</td>\n",
       "    </tr>\n",
       "    <tr>\n",
       "      <th>UK</th>\n",
       "      <td>0.150407</td>\n",
       "      <td>0.096386</td>\n",
       "      <td>0.138211</td>\n",
       "      <td>0.132530</td>\n",
       "    </tr>\n",
       "    <tr>\n",
       "      <th>FR</th>\n",
       "      <td>0.101626</td>\n",
       "      <td>0.060241</td>\n",
       "      <td>0.093496</td>\n",
       "      <td>0.084337</td>\n",
       "    </tr>\n",
       "    <tr>\n",
       "      <th>IT</th>\n",
       "      <td>0.097561</td>\n",
       "      <td>0.072289</td>\n",
       "      <td>0.089431</td>\n",
       "      <td>0.096386</td>\n",
       "    </tr>\n",
       "    <tr>\n",
       "      <th>ES</th>\n",
       "      <td>0.093496</td>\n",
       "      <td>0.072289</td>\n",
       "      <td>0.089431</td>\n",
       "      <td>0.084337</td>\n",
       "    </tr>\n",
       "    <tr>\n",
       "      <th>GE</th>\n",
       "      <td>0.069106</td>\n",
       "      <td>0.156627</td>\n",
       "      <td>0.089431</td>\n",
       "      <td>0.096386</td>\n",
       "    </tr>\n",
       "  </tbody>\n",
       "</table>\n",
       "</div>"
      ],
      "text/plain": [
       "     y_train    y_test  y_train_s  y_test_s\n",
       "US  0.487805  0.542169   0.500000  0.506024\n",
       "UK  0.150407  0.096386   0.138211  0.132530\n",
       "FR  0.101626  0.060241   0.093496  0.084337\n",
       "IT  0.097561  0.072289   0.089431  0.096386\n",
       "ES  0.093496  0.072289   0.089431  0.084337\n",
       "GE  0.069106  0.156627   0.089431  0.096386"
      ]
     },
     "metadata": {},
     "output_type": "display_data"
    }
   ],
   "source": [
    "# check proportions of each category for both samples\n",
    "prop_counts = pd.DataFrame()\n",
    "prop_counts['y_train'] = pd.Series(y_train.value_counts(normalize = True))\n",
    "prop_counts['y_test'] = pd.Series(y_test.value_counts(normalize = True))\n",
    "prop_counts['y_train_s'] = pd.Series(y_train_s.value_counts(normalize = True))\n",
    "prop_counts['y_test_s'] = pd.Series(y_test_s.value_counts(normalize = True))\n",
    "display(prop_counts)\n"
   ]
  },
  {
   "cell_type": "markdown",
   "metadata": {},
   "source": [
    "The data frame shows the stratified train/test split has similar proportions via category. This might actually hurt the model as there are fewer samples to further split during cross-validation. My assumption is that I will have to use 3-5 fold cross-validation to achieve higher accuracy for the stratified split, while I can use 5-10 fold cross-validation for the random split."
   ]
  },
  {
   "cell_type": "markdown",
   "metadata": {},
   "source": [
    "**Stock Model**"
   ]
  },
  {
   "cell_type": "code",
   "execution_count": 21,
   "metadata": {},
   "outputs": [
    {
     "data": {
      "text/plain": [
       "KNeighborsClassifier()"
      ]
     },
     "execution_count": 21,
     "metadata": {},
     "output_type": "execute_result"
    }
   ],
   "source": [
    "# create the classifier and leave defaults values: p = 2 (Euclidean Distance), weights = 'uniform', n_neighbors = 5\n",
    "knn_base = KNeighborsClassifier()\n",
    "knn_base_s = KNeighborsClassifier()\n",
    "\n",
    "# fit the model to both samples\n",
    "knn_base.fit(X_train, y_train)\n",
    "knn_base_s.fit(X_train_s, y_train_s)"
   ]
  },
  {
   "cell_type": "markdown",
   "metadata": {},
   "source": [
    "Check the overall classification accuracy using the score method. It appears that the random sample produces slightly better accuracy than the stratified sample for the stock model."
   ]
  },
  {
   "cell_type": "code",
   "execution_count": 22,
   "metadata": {},
   "outputs": [
    {
     "name": "stdout",
     "output_type": "stream",
     "text": [
      "The overall accuracy is:  80.0 %\n",
      "The overall accuracy is:  77.0 %\n"
     ]
    }
   ],
   "source": [
    "# random\n",
    "print('The overall accuracy is: ', round(knn_base.score(X_test, y_test),2) * 100, '%')\n",
    "# stratified\n",
    "print('The overall accuracy is: ', round(knn_base_s.score(X_test_s, y_test_s),2) * 100, '%')"
   ]
  },
  {
   "cell_type": "code",
   "execution_count": 57,
   "metadata": {},
   "outputs": [
    {
     "name": "stdout",
     "output_type": "stream",
     "text": [
      "Random Overall Accuracy:  80 %\n"
     ]
    },
    {
     "data": {
      "image/png": "[encoded data removed]",
      "text/plain": [
       "<Figure size 432x288 with 2 Axes>"
      ]
     },
     "metadata": {
      "needs_background": "light"
     },
     "output_type": "display_data"
    },
    {
     "name": "stdout",
     "output_type": "stream",
     "text": [
      "Stratified Overall Accuracy:  77 %\n"
     ]
    },
    {
     "data": {
      "image/png": "[encoded data removed]",
      "text/plain": [
       "<Figure size 432x288 with 2 Axes>"
      ]
     },
     "metadata": {
      "needs_background": "light"
     },
     "output_type": "display_data"
    }
   ],
   "source": [
    "# make the predictions and check the score method manually\n",
    "y_pred_base = knn_base.predict(X_test)\n",
    "y_pred_base_s = knn_base_s.predict(X_test_s)\n",
    "\n",
    "# create confusion matrices\n",
    "cm_base = confusion_matrix(y_test, y_pred_base)\n",
    "cm_base_s = confusion_matrix(y_test_s, y_pred_base_s)\n",
    "\n",
    "# show results for manual calculation\n",
    "print('Random Overall Accuracy: ', str(round(float(knn_base.score(X_test,y_test)) * 100)),'%')\n",
    "plot_confusion_matrix(knn_base, X_test, y_test)\n",
    "plt.show()\n",
    "print('Stratified Overall Accuracy: ', str(round(float(knn_base_s.score(X_test_s,y_test_s)) * 100)), '%')\n",
    "plot_confusion_matrix(knn_base_s, X_test_s, y_test_s)\n",
    "plt.show()"
   ]
  },
  {
   "cell_type": "markdown",
   "metadata": {},
   "source": [
    "The stock model on random sampling generalized better to the unseen data. Check the average cross_val_score for folds: 3,5,10 for each split."
   ]
  },
  {
   "cell_type": "code",
   "execution_count": 24,
   "metadata": {},
   "outputs": [
    {
     "data": {
      "text/html": [
       "<div>\n",
       "<style scoped>\n",
       "    .dataframe tbody tr th:only-of-type {\n",
       "        vertical-align: middle;\n",
       "    }\n",
       "\n",
       "    .dataframe tbody tr th {\n",
       "        vertical-align: top;\n",
       "    }\n",
       "\n",
       "    .dataframe thead th {\n",
       "        text-align: right;\n",
       "    }\n",
       "</style>\n",
       "<table border=\"1\" class=\"dataframe\">\n",
       "  <thead>\n",
       "    <tr style=\"text-align: right;\">\n",
       "      <th></th>\n",
       "      <th>Random Mean Score</th>\n",
       "      <th>Stratified Mean Score</th>\n",
       "    </tr>\n",
       "    <tr>\n",
       "      <th>Folds</th>\n",
       "      <th></th>\n",
       "      <th></th>\n",
       "    </tr>\n",
       "  </thead>\n",
       "  <tbody>\n",
       "    <tr>\n",
       "      <th>3</th>\n",
       "      <td>0.780488</td>\n",
       "      <td>0.723577</td>\n",
       "    </tr>\n",
       "    <tr>\n",
       "      <th>5</th>\n",
       "      <td>0.776571</td>\n",
       "      <td>0.760245</td>\n",
       "    </tr>\n",
       "    <tr>\n",
       "      <th>10</th>\n",
       "      <td>0.788833</td>\n",
       "      <td>0.781167</td>\n",
       "    </tr>\n",
       "  </tbody>\n",
       "</table>\n",
       "</div>"
      ],
      "text/plain": [
       "       Random Mean Score  Stratified Mean Score\n",
       "Folds                                          \n",
       "3               0.780488               0.723577\n",
       "5               0.776571               0.760245\n",
       "10              0.788833               0.781167"
      ]
     },
     "metadata": {},
     "output_type": "display_data"
    }
   ],
   "source": [
    "# empty storage lists\n",
    "random_cv_means = []\n",
    "stratified_cv_means = []\n",
    "\n",
    "# loop to get average values\n",
    "for fold_num in [3,5,10]:\n",
    "    #print(fold_num, ' - cv:\\n')\n",
    "    res = cross_val_score(knn_base, X_train, y_train, cv = fold_num)\n",
    "    res_s = cross_val_score(knn_base_s, X_train_s, y_train_s, cv = fold_num)\n",
    "    #print('random_scores: ', res,'\\n')\n",
    "    #print('stratified_scores: ', res_s, '\\n')\n",
    "    random_cv_means.append(np.mean(res))\n",
    "    stratified_cv_means.append(np.mean(res_s))\n",
    "\n",
    "# results\n",
    "avg_cvs = pd.DataFrame()\n",
    "avg_cvs['Folds'] = pd.Series([3,5,10])\n",
    "avg_cvs['Random Mean Score'] = pd.Series(random_cv_means)\n",
    "avg_cvs['Stratified Mean Score'] = pd.Series(stratified_cv_means)\n",
    "display(avg_cvs.set_index('Folds'))"
   ]
  },
  {
   "cell_type": "markdown",
   "metadata": {},
   "source": [
    "Check Precision and Recall via generating a classification report."
   ]
  },
  {
   "cell_type": "code",
   "execution_count": 25,
   "metadata": {},
   "outputs": [
    {
     "name": "stdout",
     "output_type": "stream",
     "text": [
      "Random Sampling:\n",
      "\n"
     ]
    },
    {
     "data": {
      "text/plain": [
       "['              precision    recall  f1-score   support',\n",
       " '',\n",
       " '          ES       1.00      0.83      0.91         6',\n",
       " '          FR       0.57      0.80      0.67         5',\n",
       " '          GE       0.71      0.77      0.74        13',\n",
       " '          IT       0.50      0.33      0.40         6',\n",
       " '          UK       0.70      0.88      0.78         8',\n",
       " '          US       0.88      0.84      0.86        45',\n",
       " '',\n",
       " '    accuracy                           0.80        83',\n",
       " '   macro avg       0.73      0.74      0.73        83',\n",
       " 'weighted avg       0.80      0.80      0.79        83',\n",
       " '']"
      ]
     },
     "execution_count": 25,
     "metadata": {},
     "output_type": "execute_result"
    }
   ],
   "source": [
    "# view the classifcation reports\n",
    "print(\"Random Sampling:\\n\")\n",
    "classification_report(y_test, y_pred_base).split('\\n')"
   ]
  },
  {
   "cell_type": "code",
   "execution_count": 26,
   "metadata": {},
   "outputs": [
    {
     "name": "stdout",
     "output_type": "stream",
     "text": [
      "Stratified Sampling:\n",
      "\n"
     ]
    },
    {
     "data": {
      "text/plain": [
       "['              precision    recall  f1-score   support',\n",
       " '',\n",
       " '          ES       0.86      0.86      0.86         7',\n",
       " '          FR       0.83      0.71      0.77         7',\n",
       " '          GE       0.75      0.75      0.75         8',\n",
       " '          IT       1.00      0.50      0.67         8',\n",
       " '          UK       0.53      0.91      0.67        11',\n",
       " '          US       0.85      0.79      0.81        42',\n",
       " '',\n",
       " '    accuracy                           0.77        83',\n",
       " '   macro avg       0.80      0.75      0.75        83',\n",
       " 'weighted avg       0.81      0.77      0.77        83',\n",
       " '']"
      ]
     },
     "execution_count": 26,
     "metadata": {},
     "output_type": "execute_result"
    }
   ],
   "source": [
    "print(\"Stratified Sampling:\\n\")\n",
    "classification_report(y_test_s, y_pred_base_s).split('\\n')"
   ]
  },
  {
   "cell_type": "markdown",
   "metadata": {},
   "source": [
    "### KNeighborsClassifier() with tuned hyperparameters"
   ]
  },
  {
   "cell_type": "code",
   "execution_count": 27,
   "metadata": {},
   "outputs": [
    {
     "data": {
      "text/plain": [
       "GridSearchCV(cv=5, estimator=Pipeline(steps=[('knn', KNeighborsClassifier())]),\n",
       "             param_grid={'knn__n_neighbors': range(1, 20),\n",
       "                         'knn__p': range(1, 3),\n",
       "                         'knn__weights': ['uniform', 'distance']})"
      ]
     },
     "execution_count": 27,
     "metadata": {},
     "output_type": "execute_result"
    }
   ],
   "source": [
    "# set up the better format with the pipeline and steps\n",
    "# scaling is not necessary as they are all MFCCs\n",
    "steps = [('knn', KNeighborsClassifier())]\n",
    "pipeline = Pipeline(steps)\n",
    "\n",
    "# set up parameters and values to search over\n",
    "parameters = {'knn__n_neighbors': range(1,20), # set range through p (features)\n",
    "              'knn__p': range(1,3), # set range over manhattan and euclidean distances\n",
    "              'knn__weights': ['uniform', 'distance']} # use equal voting and weighting voting via proximity\n",
    "\n",
    "# instantiate the gridsearch cv object over the pipeline and parameters\n",
    "# this searches for the best parameters for the model and uses those for scoring\n",
    "knn_cv_object = GridSearchCV(pipeline, parameters, cv = 5) # use 5-fold cv as this works best in tuned model\n",
    "knn_cv_object_s = GridSearchCV(pipeline, parameters, cv = 5)\n",
    "\n",
    "# fit the object - random sampling\n",
    "knn_cv_object.fit(X_train, y_train)\n"
   ]
  },
  {
   "cell_type": "code",
   "execution_count": 28,
   "metadata": {},
   "outputs": [
    {
     "data": {
      "text/plain": [
       "GridSearchCV(cv=5, estimator=Pipeline(steps=[('knn', KNeighborsClassifier())]),\n",
       "             param_grid={'knn__n_neighbors': range(1, 20),\n",
       "                         'knn__p': range(1, 3),\n",
       "                         'knn__weights': ['uniform', 'distance']})"
      ]
     },
     "execution_count": 28,
     "metadata": {},
     "output_type": "execute_result"
    }
   ],
   "source": [
    "# fit the object - stratified sampling\n",
    "knn_cv_object_s.fit(X_train_s, y_train_s)"
   ]
  },
  {
   "cell_type": "markdown",
   "metadata": {},
   "source": [
    "Check the overall classification accuracy using the score method. It appears that the random sample produces much better accuracy than the stratified sample for the tuned model."
   ]
  },
  {
   "cell_type": "code",
   "execution_count": 31,
   "metadata": {},
   "outputs": [
    {
     "name": "stdout",
     "output_type": "stream",
     "text": [
      "The overall accuracy is:  83.0 %\n",
      "The overall accuracy is:  81.0 %\n"
     ]
    }
   ],
   "source": [
    "# random\n",
    "print('The overall accuracy is: ', round(knn_cv_object.score(X_test, y_test),2) * 100, '%')\n",
    "# stratified\n",
    "print('The overall accuracy is: ', round(knn_cv_object_s.score(X_test_s, y_test_s),2) * 100, '%')"
   ]
  },
  {
   "cell_type": "markdown",
   "metadata": {},
   "source": [
    "The best parameters are:"
   ]
  },
  {
   "cell_type": "code",
   "execution_count": 32,
   "metadata": {},
   "outputs": [
    {
     "name": "stdout",
     "output_type": "stream",
     "text": [
      "Best Parameters - Random:  {'knn__n_neighbors': 6, 'knn__p': 2, 'knn__weights': 'distance'} \n",
      "\n",
      "Best Parameters - Stratified:  {'knn__n_neighbors': 3, 'knn__p': 2, 'knn__weights': 'distance'} \n",
      "\n"
     ]
    }
   ],
   "source": [
    "# print best params\n",
    "print('Best Parameters - Random: ', knn_cv_object.best_params_, '\\n')\n",
    "print('Best Parameters - Stratified: ', knn_cv_object_s.best_params_, '\\n')"
   ]
  },
  {
   "cell_type": "markdown",
   "metadata": {},
   "source": [
    "#### Note:\n",
    "**Setting the cv value for the grid search object above to 3,5,10 yields the following values for score accuracy:**\n",
    "\n",
    "Random: [81%, 83%, 83%]\n",
    "\n",
    "Stratified: [81%, 81%, 73%]\n",
    "\n",
    "**This agrees with the original assumption I made that there wouldn't be enough observations in the training set for 10-fold CV to do well. This brings up an interesting point though. If the random state chosen pulled enough observations from the minority groups then the cross-validation would achieve good results, however if it failed to pull enough, then the generalization to unseen data might score really low. Because of this, the stratified sample should be used and the number of folds should be chosen to maximize the accuracy for the stratified sampling.**"
   ]
  },
  {
   "cell_type": "code",
   "execution_count": 59,
   "metadata": {},
   "outputs": [
    {
     "name": "stdout",
     "output_type": "stream",
     "text": [
      "Random Overall Accuracy:  83 %\n"
     ]
    },
    {
     "data": {
      "image/png": "[encoded data removed]",
      "text/plain": [
       "<Figure size 432x288 with 2 Axes>"
      ]
     },
     "metadata": {
      "needs_background": "light"
     },
     "output_type": "display_data"
    },
    {
     "name": "stdout",
     "output_type": "stream",
     "text": [
      "Stratified Overall Accuracy:  81 %\n"
     ]
    },
    {
     "data": {
      "image/png": "[encoded data removed]",
      "text/plain": [
       "<Figure size 432x288 with 2 Axes>"
      ]
     },
     "metadata": {
      "needs_background": "light"
     },
     "output_type": "display_data"
    }
   ],
   "source": [
    "# make the predictions and check the score method manually\n",
    "y_pred_tuned = knn_cv_object.predict(X_test)\n",
    "y_pred_tuned_s = knn_cv_object_s.predict(X_test_s)\n",
    "\n",
    "# create confusion matrices\n",
    "cm_tuned = confusion_matrix(y_test, y_pred_tuned)\n",
    "cm_tuned_s = confusion_matrix(y_test_s, y_pred_tuned_s)\n",
    "\n",
    "# show results for manual calculation\n",
    "print('Random Overall Accuracy: ', str(round(float(knn_cv_object.score(X_test,y_test)) * 100)),'%')\n",
    "plot_confusion_matrix(knn_cv_object,X_test,y_test)\n",
    "plt.show()\n",
    "print('Stratified Overall Accuracy: ', str(round(float(knn_cv_object_s.score(X_test_s,y_test_s)) * 100)),'%')\n",
    "plot_confusion_matrix(knn_cv_object_s,X_test_s,y_test_s)\n",
    "plt.show()"
   ]
  },
  {
   "cell_type": "markdown",
   "metadata": {},
   "source": [
    "By tuning the hyperparameters of the model we achieved a 4% increase in accuracy for the proper stratified sampling."
   ]
  },
  {
   "cell_type": "code",
   "execution_count": 60,
   "metadata": {},
   "outputs": [
    {
     "name": "stdout",
     "output_type": "stream",
     "text": [
      "Stratified Sampling:\n",
      "\n"
     ]
    },
    {
     "data": {
      "text/plain": [
       "['              precision    recall  f1-score   support',\n",
       " '',\n",
       " '          ES       0.75      0.86      0.80         7',\n",
       " '          FR       0.83      0.71      0.77         7',\n",
       " '          GE       0.86      0.75      0.80         8',\n",
       " '          IT       0.86      0.75      0.80         8',\n",
       " '          UK       0.69      0.82      0.75        11',\n",
       " '          US       0.83      0.83      0.83        42',\n",
       " '',\n",
       " '    accuracy                           0.81        83',\n",
       " '   macro avg       0.80      0.79      0.79        83',\n",
       " 'weighted avg       0.81      0.81      0.81        83',\n",
       " '']"
      ]
     },
     "execution_count": 60,
     "metadata": {},
     "output_type": "execute_result"
    }
   ],
   "source": [
    "print(\"Stratified Sampling:\\n\")\n",
    "classification_report(y_test_s, y_pred_tuned_s).split('\\n')"
   ]
  },
  {
   "cell_type": "markdown",
   "metadata": {},
   "source": [
    "Visualize the decision boundaries"
   ]
  },
  {
   "cell_type": "markdown",
   "metadata": {},
   "source": [
    "Saving the following tuned model to the working directory..."
   ]
  },
  {
   "cell_type": "code",
   "execution_count": 61,
   "metadata": {},
   "outputs": [
    {
     "data": {
      "text/plain": [
       "['KNeighborsClassifier_tuned_model.sav']"
      ]
     },
     "execution_count": 61,
     "metadata": {},
     "output_type": "execute_result"
    }
   ],
   "source": [
    "import joblib\n",
    "\n",
    "joblib.dump(knn_cv_object_s, 'KNeighborsClassifier_tuned_model.sav')"
   ]
  },
  {
   "cell_type": "markdown",
   "metadata": {},
   "source": [
    "Load and view saved model..."
   ]
  },
  {
   "cell_type": "code",
   "execution_count": 62,
   "metadata": {},
   "outputs": [
    {
     "data": {
      "text/plain": [
       "GridSearchCV(cv=5, estimator=Pipeline(steps=[('knn', KNeighborsClassifier())]),\n",
       "             param_grid={'knn__n_neighbors': range(1, 20),\n",
       "                         'knn__p': range(1, 3),\n",
       "                         'knn__weights': ['uniform', 'distance']})"
      ]
     },
     "execution_count": 62,
     "metadata": {},
     "output_type": "execute_result"
    }
   ],
   "source": [
    "best_model = joblib.load('KNeighborsClassifier_tuned_model.sav')\n",
    "best_model"
   ]
  }
 ],
 "metadata": {
  "kernelspec": {
   "display_name": "Python 3",
   "language": "python",
   "name": "python3"
  },
  "language_info": {
   "codemirror_mode": {
    "name": "ipython",
    "version": 3
   },
   "file_extension": ".py",
   "mimetype": "text/x-python",
   "name": "python",
   "nbconvert_exporter": "python",
   "pygments_lexer": "ipython3",
   "version": "3.9.4"
  }
 },
 "nbformat": 4,
 "nbformat_minor": 4
}
